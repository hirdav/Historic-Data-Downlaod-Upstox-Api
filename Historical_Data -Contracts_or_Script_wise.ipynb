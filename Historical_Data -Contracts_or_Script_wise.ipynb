{
 "cells": [
  {
   "cell_type": "code",
   "execution_count": null,
   "metadata": {},
   "outputs": [],
   "source": [
    "import pandas as pd\n",
    "import datetime\n",
    "import requests\n",
    "import urllib.parse\n",
    "import requests\n",
    "\n",
    "apiKey = '218c777c-8a2b-4c3f-bc1a-4b5160beec48'\n",
    "secretKey = 'rt7sr4wtzp'\n",
    "redirectUrl = 'https://127.0.0.1:5000/'\n",
    "rurl = urllib.parse.quote(redirectUrl,safe=\"\")\n",
    "rurl"
   ]
  },
  {
   "cell_type": "code",
   "execution_count": null,
   "metadata": {},
   "outputs": [],
   "source": [
    "url = f'https://api-v2.upstox.com/login/authorization/dialog?response_type=code&client_id={apiKey}&redirect_uri={rurl}'\n",
    "print(url)"
   ]
  },
  {
   "cell_type": "code",
   "execution_count": null,
   "metadata": {},
   "outputs": [],
   "source": [
    "\n",
    "url = 'https://api-v2.upstox.com/login/authorization/token'\n",
    "code = '_35LB'\n",
    "headers = {\n",
    "    'accept': 'application/json',\n",
    "    'Content-Type': 'application/x-www-form-urlencoded'\n",
    "}\n",
    "\n",
    "data = {\n",
    "    'code': code,\n",
    "    'client_id': apiKey,\n",
    "    'client_secret': secretKey,\n",
    "    'redirect_uri': redirectUrl,\n",
    "    'grant_type': 'authorization_code'\n",
    "}\n",
    "\n",
    "response = requests.post(url, headers=headers, data=data)\n",
    "json_response = response.json()\n",
    "\n",
    "json_response"
   ]
  },
  {
   "cell_type": "markdown",
   "metadata": {},
   "source": [
    "Access Token Generation"
   ]
  },
  {
   "cell_type": "code",
   "execution_count": null,
   "metadata": {},
   "outputs": [],
   "source": [
    "access_token = json_response['access_token']\n",
    "access_token"
   ]
  },
  {
   "cell_type": "markdown",
   "metadata": {},
   "source": [
    "Data Reading"
   ]
  },
  {
   "cell_type": "code",
   "execution_count": null,
   "metadata": {},
   "outputs": [],
   "source": [
    "df = pd.read_csv(\"https://assets.upstox.com/market-quote/instruments/exchange/complete.csv.gz\")\n",
    "df .columns\n",
    "df['exchange'].unique()\n",
    "df[df['exchange'] == 'NSE_FO']\n",
    "#df[df['exchange'] == 'MCX_FO']"
   ]
  },
  {
   "cell_type": "markdown",
   "metadata": {},
   "source": [
    "Extracting the required insturments existing contracts  of the particular excange with the lot size"
   ]
  },
  {
   "cell_type": "code",
   "execution_count": null,
   "metadata": {},
   "outputs": [],
   "source": [
    "df[(df['exchange'] == 'NSE_FO') & (df['instrument_type'] == 'OPTIDX') & (df['lot_size']==25)]\n",
    "#df[(df['exchange'] == 'MCX_FO')  & (df['lot_size']==100)] //to switch the exchange \n"
   ]
  },
  {
   "cell_type": "markdown",
   "metadata": {},
   "source": [
    "Selecting the required Instrument with lot size and expiry Date ."
   ]
  },
  {
   "cell_type": "code",
   "execution_count": null,
   "metadata": {},
   "outputs": [],
   "source": [
    "df[(df['exchange'] == 'NSE_FO') & (df['instrument_type'] == 'OPTIDX') & (df['lot_size']==25)&(df['expiry']=='2024-09-19')]"
   ]
  },
  {
   "cell_type": "markdown",
   "metadata": {},
   "source": [
    "Extracted all the strike which is active  or you can reteive with premiums providing range."
   ]
  },
  {
   "cell_type": "code",
   "execution_count": null,
   "metadata": {},
   "outputs": [],
   "source": [
    "import pandas as pd\n",
    "\n",
    "# Your input dataframe\n",
    "input_df = df[(df['exchange'] == 'NSE_FO') & \n",
    "              (df['instrument_type'] == 'OPTIDX') & \n",
    "              (df['lot_size'] == 25) & \n",
    "              (df['expiry'] == '2024-09-19')]\n",
    "\n",
    "# # Selecting the middle 50 up and 50 down trading symbols\n",
    "middle_index = len(input_df) // 1 \n",
    "selected_df = input_df.iloc[middle_index - 50: middle_index + 50]\n",
    "\n",
    "# Selecting only required columns\n",
    "selected_df = selected_df[['instrument_key', 'tradingsymbol','last_price' ,'expiry', 'strike', 'exchange_token']]\n",
    "\n",
    "# Filtering based on last_price range\n",
    "selected_df_filtered = selected_df[(selected_df['last_price'] >= 0.5) & (selected_df['last_price'] <= 1000)]\n",
    "\n",
    "# Print the resulting dataframe\n",
    "print(selected_df_filtered)\n",
    "selected_df_filtered\n"
   ]
  },
  {
   "cell_type": "markdown",
   "metadata": {},
   "source": [
    "Extracting 1 day Historical data of extracted Contracts"
   ]
  },
  {
   "cell_type": "code",
   "execution_count": null,
   "metadata": {},
   "outputs": [],
   "source": [
    "#1d OHLC\n",
    "\n",
    "# Define the URL for the OHLC API endpoint\n",
    "url = 'https://api.upstox.com/v2/market-quote/ohlc'\n",
    "\n",
    "# Define a list to store OHLC data for each instrument key\n",
    "ohlc_data_list = []\n",
    "\n",
    "# Extract instrument keys from the selected_df DataFrame\n",
    "instrument_keys = selected_df_filtered['instrument_key'].tolist()\n",
    "\n",
    "# Set up headers with access token\n",
    "headers = {\n",
    "    'Accept': 'application/json',\n",
    "    'Authorization': f'Bearer {access_token}'\n",
    "}\n",
    "\n",
    "# Define the interval for OHLC data (e.g., 1d for daily OHLC data)\n",
    "interval = '1d'\n",
    "\n",
    "# Iterate over each instrument key and fetch OHLC data\n",
    "for instrument_key in instrument_keys:\n",
    "    # Define the query parameters\n",
    "    params = {\n",
    "        'instrument_key': instrument_key,\n",
    "        'interval': interval\n",
    "    }\n",
    "\n",
    "    # Send a GET request to the OHLC endpoint for the current instrument key\n",
    "    response = requests.get(url, headers=headers, params=params)\n",
    "\n",
    "    # Check if the request was successful (status code 200)\n",
    "    if response.status_code == 200:\n",
    "        # Parse and append the OHLC data to the list\n",
    "        ohlc_data_list.append(response.json())\n",
    "    else:\n",
    "        # Print an error message if the request was not successful\n",
    "        print(f\"Error for instrument key {instrument_key}: {response.status_code} - {response.text}\")\n",
    "\n",
    "# Print the OHLC data for all instrument keys\n",
    "for ohlc_data in ohlc_data_list:\n",
    "    print(ohlc_data)\n",
    "    \n"
   ]
  },
  {
   "cell_type": "markdown",
   "metadata": {},
   "source": [
    " Now extracting 1 min Historical data of extracted Contracts or It can also extract 30minute"
   ]
  },
  {
   "cell_type": "code",
   "execution_count": null,
   "metadata": {},
   "outputs": [],
   "source": [
    "#1min OHLC\n",
    "\n",
    "\n",
    "import requests\n",
    "\n",
    "# Define your access token\n",
    "access_token = access_token\n",
    "\n",
    "# Define the base URL for historical candle data\n",
    "base_url = 'https://api.upstox.com/v2/historical-candle/'\n",
    "\n",
    "# Define the interval for historical candle data (1 minute)\n",
    "interval = '1minute'\n",
    "\n",
    "# Define the start and end dates for the historical data (e.g., last 30 days)\n",
    "end_date = '2024-09-12'  # Today's date\n",
    "start_date = '2024-09-12'  # __ days ago from today\n",
    "\n",
    "# Define a list to store 1-minute historical data for each instrument\n",
    "historical_data_list = []\n",
    "\n",
    "# Set up headers with access token\n",
    "headers = {\n",
    "    'Accept': 'application/json',\n",
    "    'Authorization': f'Bearer {access_token}'\n",
    "}\n",
    "\n",
    "# Iterate over each instrument in the selected_df DataFrame\n",
    "for index, row in selected_df_filtered.iterrows():\n",
    "    # Construct the URL for the current instrument\n",
    "    instrument_key = row['instrument_key']\n",
    "    url = f\"{base_url}{instrument_key}/{interval}/{end_date}/{start_date}\"\n",
    "\n",
    "    # Send a GET request to fetch historical candle data for the current instrument\n",
    "    response = requests.get(url, headers=headers)\n",
    "\n",
    "    # Check if the request was successful (status code 200)\n",
    "    if response.status_code == 200:\n",
    "        # Parse and append the historical data to the list\n",
    "        historical_data_list.append(response.json())\n",
    "    else:\n",
    "        # Print an error message if the request was not successful\n",
    "        print(f\"Error for instrument key {instrument_key}: {response.status_code} - {response.text}\")\n",
    "\n",
    "# Print the historical data for all instruments\n",
    "for historical_data in historical_data_list:\n",
    "    print(historical_data)\n"
   ]
  },
  {
   "cell_type": "markdown",
   "metadata": {},
   "source": [
    "To get the extracted in the Proper data frame to increase readability and saved to the local directory ."
   ]
  },
  {
   "cell_type": "code",
   "execution_count": null,
   "metadata": {},
   "outputs": [],
   "source": [
    "import requests\n",
    "import pandas as pd\n",
    "\n",
    "def fetch_historical_candle_data(instrument_key, trading_symbol, interval, start_date, end_date, access_token):\n",
    "    base_url = 'https://api.upstox.com/v2/historical-candle/'\n",
    "    url = f\"{base_url}{instrument_key}/{interval}/{end_date}/{start_date}\"\n",
    "    \n",
    "    headers = {\n",
    "        'Accept': 'application/json',\n",
    "        'Authorization': f'Bearer {access_token}'\n",
    "    }\n",
    "\n",
    "    response = requests.get(url, headers=headers)\n",
    "\n",
    "    if response.status_code == 200:\n",
    "        historical_data = response.json()\n",
    "        candles_data = historical_data['data']['candles']\n",
    "        instrument_data = []\n",
    "\n",
    "        for candle in candles_data:\n",
    "            timestamp = candle[0].replace('+05:30', '')\n",
    "            open_price = candle[1]\n",
    "            high_price = candle[2]\n",
    "            low_price = candle[3]\n",
    "            close_price = candle[4]\n",
    "            volume = candle[5]\n",
    "            open_interest = candle[6]\n",
    "            date = timestamp.split('T')[0]  # Extract date\n",
    "            time = timestamp.split('T')[1]  # Extract time\n",
    "            trading_symbol_parts = trading_symbol.split('249')  # Split at '242'[24 (Year) and 2 (month)] in 'BANKNIFTY2422143700PE'in case of monthly use 24M(march month)\n",
    "            instrument_code = trading_symbol_parts[0]\n",
    "            strike = trading_symbol_parts[1][2:]  # Extract the strike price (excluding '242')\n",
    "            instrument_data.append([instrument_key, trading_symbol, instrument_code, strike, timestamp, date, time, open_price, high_price, low_price, close_price, volume, open_interest])\n",
    "\n",
    "        return instrument_data\n",
    "    else:\n",
    "        print(f\"Error for instrument key {instrument_key}: {response.status_code} - {response.text}\")\n",
    "        return None\n",
    "\n",
    "def fetch_all_historical_candle_data(selected_df, interval, start_date, end_date, access_token):\n",
    "    historical_data_list = []\n",
    "\n",
    "    for index, row in selected_df.iterrows():\n",
    "        instrument_key = row['instrument_key']\n",
    "        trading_symbol = row['tradingsymbol']\n",
    "        instrument_data = fetch_historical_candle_data(instrument_key, trading_symbol, interval, start_date, end_date, access_token)\n",
    "        \n",
    "        if instrument_data:\n",
    "            historical_data_list.extend(instrument_data)\n",
    "\n",
    "    return historical_data_list\n",
    "\n",
    "def main():\n",
    "    # Define your access token\n",
    "    access_token = 'access_token'\n",
    "\n",
    "    # Define the interval for historical candle data (1 minute)\n",
    "    interval = '1minute'\n",
    "\n",
    "    # Define the start and end dates for the historical data (e.g., last 30 days)\n",
    "    end_date = '2024-09-12'  # Today's date\n",
    "    start_date = '2024-09-12'  # ___ days ago from today\n",
    "\n",
    "    # Fetch all historical candle data for selected instruments\n",
    "    historical_data_list = fetch_all_historical_candle_data(selected_df_filtered, interval, start_date, end_date, access_token)\n",
    "\n",
    "    # Create a DataFrame with headers\n",
    "    column_names = ['Instrument Key', 'Trading Symbol', 'Instrument Code', 'Strike', 'Timestamp', 'Date', 'Time', 'Open', 'High', 'Low', 'Close', 'Volume', 'Open Interest']\n",
    "    df = pd.DataFrame(historical_data_list, columns=column_names)\n",
    "\n",
    "    # Save the DataFrame to a CSV file\n",
    "    csv_file_path = 'banknifty Sep 12 .csv'\n",
    "    df.to_csv(csv_file_path, index=False)\n",
    "    print(f\"CSV file has been saved successfully at: {csv_file_path}\")\n",
    "\n",
    "if __name__ == \"__main__\":\n",
    "    main()\n"
   ]
  },
  {
   "cell_type": "code",
   "execution_count": null,
   "metadata": {},
   "outputs": [],
   "source": []
  },
  {
   "cell_type": "markdown",
   "metadata": {},
   "source": []
  }
 ],
 "metadata": {
  "language_info": {
   "name": "python"
  }
 },
 "nbformat": 4,
 "nbformat_minor": 2
}
